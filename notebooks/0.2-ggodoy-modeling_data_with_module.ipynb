{
 "cells": [
  {
   "cell_type": "markdown",
   "metadata": {},
   "source": [
    "# 0.2 Modeling data"
   ]
  },
  {
   "cell_type": "markdown",
   "metadata": {},
   "source": [
    "#### Libraries"
   ]
  },
  {
   "cell_type": "code",
   "execution_count": 1,
   "metadata": {},
   "outputs": [],
   "source": [
    "%load_ext autoreload\n",
    "%autoreload 2"
   ]
  },
  {
   "cell_type": "code",
   "execution_count": 2,
   "metadata": {},
   "outputs": [],
   "source": [
    "import challenge_alaya.utils.paths as path\n",
    "import janitor\n",
    "import matplotlib.pyplot as plt\n",
    "import pandas as pd\n",
    "import numpy as np\n",
    "import seaborn as sns"
   ]
  },
  {
   "cell_type": "markdown",
   "metadata": {},
   "source": [
    "#### Read data"
   ]
  },
  {
   "cell_type": "code",
   "execution_count": 3,
   "metadata": {},
   "outputs": [],
   "source": [
    "input_data = path.data_raw_dir(\"data.csv\")"
   ]
  },
  {
   "cell_type": "code",
   "execution_count": 4,
   "metadata": {},
   "outputs": [],
   "source": [
    "### Cargar los datos ###\n",
    "df = pd.read_csv(input_data)"
   ]
  },
  {
   "cell_type": "markdown",
   "metadata": {},
   "source": [
    "#### Transform and modeling"
   ]
  },
  {
   "cell_type": "code",
   "execution_count": 5,
   "metadata": {},
   "outputs": [
    {
     "name": "stdout",
     "output_type": "stream",
     "text": [
      "[13123  5759 14517 11592]\n"
     ]
    }
   ],
   "source": [
    "### DATOS DE MUESTRA ###\n",
    "#Se selecciona unos datos al azar para posteriormente verificar el clúster al que pertenecen\n",
    "start = 0   # incluido\n",
    "end = len(df)    # exclusivo \n",
    "n = 4      # size\n",
    "indices = np.random.randint(low=start, high=end, size=(n))\n",
    "print(indices)"
   ]
  },
  {
   "cell_type": "code",
   "execution_count": 6,
   "metadata": {},
   "outputs": [],
   "source": [
    "muestras = pd.DataFrame(df.loc[indices],columns = df.keys()).reset_index(drop = True)\n",
    "df = df.drop(indices, axis=0)"
   ]
  },
  {
   "cell_type": "code",
   "execution_count": 7,
   "metadata": {},
   "outputs": [],
   "source": [
    "#Se realiza el escalamiento de los datos\n",
    "from sklearn import preprocessing"
   ]
  },
  {
   "cell_type": "code",
   "execution_count": 8,
   "metadata": {},
   "outputs": [],
   "source": [
    "data_escalada = preprocessing.Normalizer().fit_transform(df)\n",
    "muestras_escalada = preprocessing.Normalizer().fit_transform(muestras)"
   ]
  },
  {
   "cell_type": "code",
   "execution_count": 9,
   "metadata": {},
   "outputs": [],
   "source": [
    "### ANÁLISIS DE MACHINE LEARNING ###\n",
    "from sklearn.cluster import KMeans"
   ]
  },
  {
   "cell_type": "code",
   "execution_count": 10,
   "metadata": {},
   "outputs": [],
   "source": [
    "# Se determina las variables a evaluar\n",
    "X = data_escalada.copy()"
   ]
  },
  {
   "cell_type": "code",
   "execution_count": 11,
   "metadata": {},
   "outputs": [],
   "source": [
    "## Hallar el valor óptimo de K ##\n",
    "# Se aplicará el método de codo para hallar  K\n",
    "# Se calcula el algoritmo de agrupación para diferentes valores de K\n",
    "inercia = []\n",
    "for i in range(1,20):\n",
    "    algoritmo = KMeans(n_clusters= i, init= 'k-means++', max_iter=300, n_init=10)\n",
    "    algoritmo.fit(X)\n",
    "    #Para cada K, se calcula la suma total del cuadrado dentro del clúster\n",
    "    inercia.append(algoritmo.inertia_)"
   ]
  },
  {
   "cell_type": "code",
   "execution_count": 12,
   "metadata": {},
   "outputs": [
    {
     "data": {
      "image/png": "[encoded data removed]",
      "text/plain": [
       "<Figure size 720x432 with 1 Axes>"
      ]
     },
     "metadata": {
      "needs_background": "light"
     },
     "output_type": "display_data"
    }
   ],
   "source": [
    "#Se traza la curva de la suma de errores cuadráticos\n",
    "plt.figure(figsize=[10,6])\n",
    "plt.title('Método del Codo')\n",
    "plt.xlabel('Nº. de clusters')\n",
    "plt.ylabel('Inercia')\n",
    "plt.plot(list(range(1,20)), inercia, marker='o')\n",
    "plt.show()"
   ]
  },
  {
   "cell_type": "code",
   "execution_count": 13,
   "metadata": {},
   "outputs": [],
   "source": [
    "## Se aplica el algoritmo de clustering ##\n",
    "# Se define el algoritmo junto con el valor de K\n",
    "algoritmo = KMeans(n_clusters= 4, init='k-means++', max_iter=300, n_init=10)"
   ]
  },
  {
   "cell_type": "code",
   "execution_count": 14,
   "metadata": {},
   "outputs": [
    {
     "data": {
      "text/plain": [
       "KMeans(n_clusters=4)"
      ]
     },
     "execution_count": 14,
     "metadata": {},
     "output_type": "execute_result"
    }
   ],
   "source": [
    "# Se entrena el algoritmo\n",
    "algoritmo.fit(X)"
   ]
  },
  {
   "cell_type": "code",
   "execution_count": 15,
   "metadata": {},
   "outputs": [],
   "source": [
    "#Se obtiene los datos de los centroides y las etiquetas\n",
    "centroides, etiquetas = algoritmo.cluster_centers_, algoritmo.labels_"
   ]
  },
  {
   "cell_type": "code",
   "execution_count": 16,
   "metadata": {},
   "outputs": [],
   "source": [
    "#Utilicemos losd atos de muestras y verifiquemos en que cluster se encuentran\n",
    "muestra_prediccion = algoritmo.predict(muestras_escalada)"
   ]
  },
  {
   "cell_type": "code",
   "execution_count": 17,
   "metadata": {},
   "outputs": [
    {
     "name": "stdout",
     "output_type": "stream",
     "text": [
      "Muestra 0 se encuentra en el clúster: 0\n",
      "Muestra 1 se encuentra en el clúster: 3\n",
      "Muestra 2 se encuentra en el clúster: 2\n",
      "Muestra 3 se encuentra en el clúster: 0\n"
     ]
    }
   ],
   "source": [
    "for i, pred in enumerate(muestra_prediccion):\n",
    "    print(\"Muestra\", i, \"se encuentra en el clúster:\", pred)"
   ]
  },
  {
   "cell_type": "code",
   "execution_count": 18,
   "metadata": {},
   "outputs": [],
   "source": [
    "### GRAFICAR LOS DATOS JUNTO A LOS RESULTADOS ###\n",
    "# Se aplica la reducción de dimensionalidad a los datos\n",
    "from sklearn.decomposition import PCA"
   ]
  },
  {
   "cell_type": "code",
   "execution_count": 19,
   "metadata": {},
   "outputs": [],
   "source": [
    "modelo_pca = PCA(n_components=2)\n",
    "modelo_pca.fit(X)\n",
    "pca = modelo_pca.transform(X)"
   ]
  },
  {
   "cell_type": "code",
   "execution_count": 20,
   "metadata": {},
   "outputs": [],
   "source": [
    "# Se aplica la reducción de dimensionalidad a los centroides\n",
    "centroides_pca = modelo_pca.transform(centroides)"
   ]
  },
  {
   "cell_type": "code",
   "execution_count": 21,
   "metadata": {},
   "outputs": [],
   "source": [
    "# Se define los colores de cada clúster\n",
    "colores = ['blue', 'red', 'green', 'orange']"
   ]
  },
  {
   "cell_type": "code",
   "execution_count": 22,
   "metadata": {},
   "outputs": [],
   "source": [
    "# Se asignan los colores a cada clúster \n",
    "colores_cluster = [colores[etiquetas[i]] for i in range(len(pca))]"
   ]
  },
  {
   "cell_type": "code",
   "execution_count": 23,
   "metadata": {},
   "outputs": [
    {
     "data": {
      "image/png": "[encoded data removed]",
      "text/plain": [
       "<Figure size 432x288 with 1 Axes>"
      ]
     },
     "metadata": {
      "needs_background": "light"
     },
     "output_type": "display_data"
    }
   ],
   "source": [
    "#Se grafica los componentes PCA\n",
    "plt.scatter(pca[:, 0], pca[:, 1], c = colores_cluster, marker = 'o',alpha = 0.4)\n",
    "\n",
    "#Se grafican los centroides\n",
    "plt.scatter(centroides_pca[:, 0], centroides_pca[:, 1], marker = 'x', s = 100, linewidths = 3, c = colores)\n",
    "\n",
    "#Se guadan los datos en una variable para que sea fácil escribir el código\n",
    "xvector = modelo_pca.components_[0] * max(pca[:,0])\n",
    "yvector = modelo_pca.components_[1] * max(pca[:,1])\n",
    "columnas = df.columns\n",
    "\n",
    "#Se grafican los nombres de los clústeres con la distancia del vector\n",
    "for i in range(len(columnas)):\n",
    "    #Se grafican los vectores\n",
    "    plt.arrow(0, 0, xvector[i], yvector[i], color = 'black', width = 0.0005, head_width = 0.02, alpha = 0.75)\n",
    "    #Se colocan los nombres\n",
    "    plt.text(xvector[i], yvector[i], list(columnas)[i], color='black', alpha=0.75)\n",
    "    \n",
    "plt.show()"
   ]
  },
  {
   "cell_type": "code",
   "execution_count": null,
   "metadata": {},
   "outputs": [],
   "source": []
  }
 ],
 "metadata": {
  "kernelspec": {
   "display_name": "Python 3.10.4 ('challenge_alaya')",
   "language": "python",
   "name": "python3"
  },
  "language_info": {
   "codemirror_mode": {
    "name": "ipython",
    "version": 3
   },
   "file_extension": ".py",
   "mimetype": "text/x-python",
   "name": "python",
   "nbconvert_exporter": "python",
   "pygments_lexer": "ipython3",
   "version": "3.10.4"
  },
  "orig_nbformat": 4,
  "vscode": {
   "interpreter": {
    "hash": "73de899d9a2dc16f3483625e821de024d66a5540381a416602f9dbf2f931a523"
   }
  }
 },
 "nbformat": 4,
 "nbformat_minor": 2
}
